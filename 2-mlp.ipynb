{
 "cells": [
  {
   "cell_type": "code",
   "execution_count": 1,
   "id": "51dc9746",
   "metadata": {
    "execution": {
     "iopub.execute_input": "2022-05-23T14:23:03.899668Z",
     "iopub.status.busy": "2022-05-23T14:23:03.898721Z",
     "iopub.status.idle": "2022-05-23T14:23:03.912497Z",
     "shell.execute_reply": "2022-05-23T14:23:03.911778Z"
    },
    "papermill": {
     "duration": 0.03632,
     "end_time": "2022-05-23T14:23:03.914916",
     "exception": false,
     "start_time": "2022-05-23T14:23:03.878596",
     "status": "completed"
    },
    "tags": []
   },
   "outputs": [],
   "source": [
    "import numpy as np \n",
    "import pandas as pd \n"
   ]
  },
  {
   "cell_type": "code",
   "execution_count": 2,
   "id": "d9efe216",
   "metadata": {
    "execution": {
     "iopub.execute_input": "2022-05-23T14:23:03.949630Z",
     "iopub.status.busy": "2022-05-23T14:23:03.948948Z",
     "iopub.status.idle": "2022-05-23T14:23:04.109825Z",
     "shell.execute_reply": "2022-05-23T14:23:04.108704Z"
    },
    "papermill": {
     "duration": 0.180945,
     "end_time": "2022-05-23T14:23:04.112596",
     "exception": false,
     "start_time": "2022-05-23T14:23:03.931651",
     "status": "completed"
    },
    "tags": []
   },
   "outputs": [
    {
     "data": {
      "text/html": [
       "<div>\n",
       "<style scoped>\n",
       "    .dataframe tbody tr th:only-of-type {\n",
       "        vertical-align: middle;\n",
       "    }\n",
       "\n",
       "    .dataframe tbody tr th {\n",
       "        vertical-align: top;\n",
       "    }\n",
       "\n",
       "    .dataframe thead th {\n",
       "        text-align: right;\n",
       "    }\n",
       "</style>\n",
       "<table border=\"1\" class=\"dataframe\">\n",
       "  <thead>\n",
       "    <tr style=\"text-align: right;\">\n",
       "      <th></th>\n",
       "      <th>Carat(Weight of Daimond)</th>\n",
       "      <th>Cut(Quality)</th>\n",
       "      <th>Color</th>\n",
       "      <th>Clarity</th>\n",
       "      <th>Depth</th>\n",
       "      <th>Table</th>\n",
       "      <th>Price(in US dollars)</th>\n",
       "      <th>X(length)</th>\n",
       "      <th>Y(width)</th>\n",
       "      <th>Z(Depth)</th>\n",
       "    </tr>\n",
       "  </thead>\n",
       "  <tbody>\n",
       "    <tr>\n",
       "      <th>0</th>\n",
       "      <td>0.23</td>\n",
       "      <td>Ideal</td>\n",
       "      <td>E</td>\n",
       "      <td>SI2</td>\n",
       "      <td>61.5</td>\n",
       "      <td>55.0</td>\n",
       "      <td>326</td>\n",
       "      <td>3.95</td>\n",
       "      <td>3.98</td>\n",
       "      <td>2.43</td>\n",
       "    </tr>\n",
       "    <tr>\n",
       "      <th>1</th>\n",
       "      <td>0.21</td>\n",
       "      <td>Premium</td>\n",
       "      <td>E</td>\n",
       "      <td>SI1</td>\n",
       "      <td>59.8</td>\n",
       "      <td>61.0</td>\n",
       "      <td>326</td>\n",
       "      <td>3.89</td>\n",
       "      <td>3.84</td>\n",
       "      <td>2.31</td>\n",
       "    </tr>\n",
       "    <tr>\n",
       "      <th>2</th>\n",
       "      <td>0.23</td>\n",
       "      <td>Good</td>\n",
       "      <td>E</td>\n",
       "      <td>VS1</td>\n",
       "      <td>56.9</td>\n",
       "      <td>65.0</td>\n",
       "      <td>327</td>\n",
       "      <td>4.05</td>\n",
       "      <td>4.07</td>\n",
       "      <td>2.31</td>\n",
       "    </tr>\n",
       "    <tr>\n",
       "      <th>3</th>\n",
       "      <td>0.29</td>\n",
       "      <td>Premium</td>\n",
       "      <td>I</td>\n",
       "      <td>VS2</td>\n",
       "      <td>62.4</td>\n",
       "      <td>58.0</td>\n",
       "      <td>334</td>\n",
       "      <td>4.20</td>\n",
       "      <td>4.23</td>\n",
       "      <td>2.63</td>\n",
       "    </tr>\n",
       "    <tr>\n",
       "      <th>4</th>\n",
       "      <td>0.31</td>\n",
       "      <td>Good</td>\n",
       "      <td>J</td>\n",
       "      <td>SI2</td>\n",
       "      <td>63.3</td>\n",
       "      <td>58.0</td>\n",
       "      <td>335</td>\n",
       "      <td>4.34</td>\n",
       "      <td>4.35</td>\n",
       "      <td>2.75</td>\n",
       "    </tr>\n",
       "  </tbody>\n",
       "</table>\n",
       "</div>"
      ],
      "text/plain": [
       "   Carat(Weight of Daimond) Cut(Quality) Color Clarity  Depth  Table  \\\n",
       "0                      0.23        Ideal     E     SI2   61.5   55.0   \n",
       "1                      0.21      Premium     E     SI1   59.8   61.0   \n",
       "2                      0.23         Good     E     VS1   56.9   65.0   \n",
       "3                      0.29      Premium     I     VS2   62.4   58.0   \n",
       "4                      0.31         Good     J     SI2   63.3   58.0   \n",
       "\n",
       "   Price(in US dollars)  X(length)  Y(width)  Z(Depth)  \n",
       "0                   326       3.95      3.98      2.43  \n",
       "1                   326       3.89      3.84      2.31  \n",
       "2                   327       4.05      4.07      2.31  \n",
       "3                   334       4.20      4.23      2.63  \n",
       "4                   335       4.34      4.35      2.75  "
      ]
     },
     "execution_count": 2,
     "metadata": {},
     "output_type": "execute_result"
    }
   ],
   "source": [
    "data = pd.read_csv(\"../input/diamond-price-prediction-dataset/Diamond Price Prediction.csv\")\n",
    "data.head()"
   ]
  },
  {
   "cell_type": "code",
   "execution_count": 3,
   "id": "48843d3c",
   "metadata": {
    "execution": {
     "iopub.execute_input": "2022-05-23T14:23:04.147921Z",
     "iopub.status.busy": "2022-05-23T14:23:04.147390Z",
     "iopub.status.idle": "2022-05-23T14:23:04.176078Z",
     "shell.execute_reply": "2022-05-23T14:23:04.175027Z"
    },
    "papermill": {
     "duration": 0.049693,
     "end_time": "2022-05-23T14:23:04.178935",
     "exception": false,
     "start_time": "2022-05-23T14:23:04.129242",
     "status": "completed"
    },
    "tags": []
   },
   "outputs": [
    {
     "data": {
      "text/plain": [
       "Carat(Weight of Daimond)    0\n",
       "Cut(Quality)                0\n",
       "Color                       0\n",
       "Clarity                     0\n",
       "Depth                       0\n",
       "Table                       0\n",
       "Price(in US dollars)        0\n",
       "X(length)                   0\n",
       "Y(width)                    0\n",
       "Z(Depth)                    0\n",
       "dtype: int64"
      ]
     },
     "execution_count": 3,
     "metadata": {},
     "output_type": "execute_result"
    }
   ],
   "source": [
    "data.isnull().sum()"
   ]
  },
  {
   "cell_type": "code",
   "execution_count": 4,
   "id": "e9245256",
   "metadata": {
    "execution": {
     "iopub.execute_input": "2022-05-23T14:23:04.214524Z",
     "iopub.status.busy": "2022-05-23T14:23:04.213857Z",
     "iopub.status.idle": "2022-05-23T14:23:04.279039Z",
     "shell.execute_reply": "2022-05-23T14:23:04.278065Z"
    },
    "papermill": {
     "duration": 0.0857,
     "end_time": "2022-05-23T14:23:04.281317",
     "exception": false,
     "start_time": "2022-05-23T14:23:04.195617",
     "status": "completed"
    },
    "tags": []
   },
   "outputs": [
    {
     "data": {
      "text/html": [
       "<div>\n",
       "<style scoped>\n",
       "    .dataframe tbody tr th:only-of-type {\n",
       "        vertical-align: middle;\n",
       "    }\n",
       "\n",
       "    .dataframe tbody tr th {\n",
       "        vertical-align: top;\n",
       "    }\n",
       "\n",
       "    .dataframe thead th {\n",
       "        text-align: right;\n",
       "    }\n",
       "</style>\n",
       "<table border=\"1\" class=\"dataframe\">\n",
       "  <thead>\n",
       "    <tr style=\"text-align: right;\">\n",
       "      <th></th>\n",
       "      <th>Carat(Weight of Daimond)</th>\n",
       "      <th>Depth</th>\n",
       "      <th>Table</th>\n",
       "      <th>Price(in US dollars)</th>\n",
       "      <th>X(length)</th>\n",
       "      <th>Y(width)</th>\n",
       "      <th>Z(Depth)</th>\n",
       "    </tr>\n",
       "  </thead>\n",
       "  <tbody>\n",
       "    <tr>\n",
       "      <th>count</th>\n",
       "      <td>53940.000000</td>\n",
       "      <td>53940.000000</td>\n",
       "      <td>53940.000000</td>\n",
       "      <td>53940.000000</td>\n",
       "      <td>53940.000000</td>\n",
       "      <td>53940.000000</td>\n",
       "      <td>53940.000000</td>\n",
       "    </tr>\n",
       "    <tr>\n",
       "      <th>mean</th>\n",
       "      <td>0.797940</td>\n",
       "      <td>61.749405</td>\n",
       "      <td>57.457184</td>\n",
       "      <td>3932.799722</td>\n",
       "      <td>5.731157</td>\n",
       "      <td>5.734526</td>\n",
       "      <td>3.538734</td>\n",
       "    </tr>\n",
       "    <tr>\n",
       "      <th>std</th>\n",
       "      <td>0.474011</td>\n",
       "      <td>1.432621</td>\n",
       "      <td>2.234491</td>\n",
       "      <td>3989.439738</td>\n",
       "      <td>1.121761</td>\n",
       "      <td>1.142135</td>\n",
       "      <td>0.705699</td>\n",
       "    </tr>\n",
       "    <tr>\n",
       "      <th>min</th>\n",
       "      <td>0.200000</td>\n",
       "      <td>43.000000</td>\n",
       "      <td>43.000000</td>\n",
       "      <td>326.000000</td>\n",
       "      <td>0.000000</td>\n",
       "      <td>0.000000</td>\n",
       "      <td>0.000000</td>\n",
       "    </tr>\n",
       "    <tr>\n",
       "      <th>25%</th>\n",
       "      <td>0.400000</td>\n",
       "      <td>61.000000</td>\n",
       "      <td>56.000000</td>\n",
       "      <td>950.000000</td>\n",
       "      <td>4.710000</td>\n",
       "      <td>4.720000</td>\n",
       "      <td>2.910000</td>\n",
       "    </tr>\n",
       "    <tr>\n",
       "      <th>50%</th>\n",
       "      <td>0.700000</td>\n",
       "      <td>61.800000</td>\n",
       "      <td>57.000000</td>\n",
       "      <td>2401.000000</td>\n",
       "      <td>5.700000</td>\n",
       "      <td>5.710000</td>\n",
       "      <td>3.530000</td>\n",
       "    </tr>\n",
       "    <tr>\n",
       "      <th>75%</th>\n",
       "      <td>1.040000</td>\n",
       "      <td>62.500000</td>\n",
       "      <td>59.000000</td>\n",
       "      <td>5324.250000</td>\n",
       "      <td>6.540000</td>\n",
       "      <td>6.540000</td>\n",
       "      <td>4.040000</td>\n",
       "    </tr>\n",
       "    <tr>\n",
       "      <th>max</th>\n",
       "      <td>5.010000</td>\n",
       "      <td>79.000000</td>\n",
       "      <td>95.000000</td>\n",
       "      <td>18823.000000</td>\n",
       "      <td>10.740000</td>\n",
       "      <td>58.900000</td>\n",
       "      <td>31.800000</td>\n",
       "    </tr>\n",
       "  </tbody>\n",
       "</table>\n",
       "</div>"
      ],
      "text/plain": [
       "       Carat(Weight of Daimond)         Depth         Table  \\\n",
       "count              53940.000000  53940.000000  53940.000000   \n",
       "mean                   0.797940     61.749405     57.457184   \n",
       "std                    0.474011      1.432621      2.234491   \n",
       "min                    0.200000     43.000000     43.000000   \n",
       "25%                    0.400000     61.000000     56.000000   \n",
       "50%                    0.700000     61.800000     57.000000   \n",
       "75%                    1.040000     62.500000     59.000000   \n",
       "max                    5.010000     79.000000     95.000000   \n",
       "\n",
       "       Price(in US dollars)     X(length)      Y(width)      Z(Depth)  \n",
       "count          53940.000000  53940.000000  53940.000000  53940.000000  \n",
       "mean            3932.799722      5.731157      5.734526      3.538734  \n",
       "std             3989.439738      1.121761      1.142135      0.705699  \n",
       "min              326.000000      0.000000      0.000000      0.000000  \n",
       "25%              950.000000      4.710000      4.720000      2.910000  \n",
       "50%             2401.000000      5.700000      5.710000      3.530000  \n",
       "75%             5324.250000      6.540000      6.540000      4.040000  \n",
       "max            18823.000000     10.740000     58.900000     31.800000  "
      ]
     },
     "execution_count": 4,
     "metadata": {},
     "output_type": "execute_result"
    }
   ],
   "source": [
    "data.describe()"
   ]
  },
  {
   "cell_type": "code",
   "execution_count": 5,
   "id": "4392a4b1",
   "metadata": {
    "execution": {
     "iopub.execute_input": "2022-05-23T14:23:04.318523Z",
     "iopub.status.busy": "2022-05-23T14:23:04.317419Z",
     "iopub.status.idle": "2022-05-23T14:23:04.324377Z",
     "shell.execute_reply": "2022-05-23T14:23:04.323540Z"
    },
    "papermill": {
     "duration": 0.028952,
     "end_time": "2022-05-23T14:23:04.327483",
     "exception": false,
     "start_time": "2022-05-23T14:23:04.298531",
     "status": "completed"
    },
    "tags": []
   },
   "outputs": [],
   "source": [
    "# MIssing Values IF Exists\n",
    "data[\"Depth\"] = data[\"Depth\"].fillna(  data[\"Depth\"].mean() )"
   ]
  },
  {
   "cell_type": "code",
   "execution_count": 6,
   "id": "20a637f6",
   "metadata": {
    "execution": {
     "iopub.execute_input": "2022-05-23T14:23:04.365384Z",
     "iopub.status.busy": "2022-05-23T14:23:04.364391Z",
     "iopub.status.idle": "2022-05-23T14:23:05.704499Z",
     "shell.execute_reply": "2022-05-23T14:23:05.703477Z"
    },
    "papermill": {
     "duration": 1.365635,
     "end_time": "2022-05-23T14:23:05.710760",
     "exception": false,
     "start_time": "2022-05-23T14:23:04.345125",
     "status": "completed"
    },
    "tags": []
   },
   "outputs": [
    {
     "data": {
      "text/html": [
       "<div>\n",
       "<style scoped>\n",
       "    .dataframe tbody tr th:only-of-type {\n",
       "        vertical-align: middle;\n",
       "    }\n",
       "\n",
       "    .dataframe tbody tr th {\n",
       "        vertical-align: top;\n",
       "    }\n",
       "\n",
       "    .dataframe thead th {\n",
       "        text-align: right;\n",
       "    }\n",
       "</style>\n",
       "<table border=\"1\" class=\"dataframe\">\n",
       "  <thead>\n",
       "    <tr style=\"text-align: right;\">\n",
       "      <th></th>\n",
       "      <th>Carat(Weight of Daimond)</th>\n",
       "      <th>Cut(Quality)</th>\n",
       "      <th>Color</th>\n",
       "      <th>Clarity</th>\n",
       "      <th>Depth</th>\n",
       "      <th>Table</th>\n",
       "      <th>Price(in US dollars)</th>\n",
       "      <th>X(length)</th>\n",
       "      <th>Y(width)</th>\n",
       "      <th>Z(Depth)</th>\n",
       "    </tr>\n",
       "  </thead>\n",
       "  <tbody>\n",
       "    <tr>\n",
       "      <th>0</th>\n",
       "      <td>0.23</td>\n",
       "      <td>2</td>\n",
       "      <td>1</td>\n",
       "      <td>3</td>\n",
       "      <td>61.5</td>\n",
       "      <td>55.0</td>\n",
       "      <td>326</td>\n",
       "      <td>3.95</td>\n",
       "      <td>3.98</td>\n",
       "      <td>2.43</td>\n",
       "    </tr>\n",
       "    <tr>\n",
       "      <th>1</th>\n",
       "      <td>0.21</td>\n",
       "      <td>3</td>\n",
       "      <td>1</td>\n",
       "      <td>2</td>\n",
       "      <td>59.8</td>\n",
       "      <td>61.0</td>\n",
       "      <td>326</td>\n",
       "      <td>3.89</td>\n",
       "      <td>3.84</td>\n",
       "      <td>2.31</td>\n",
       "    </tr>\n",
       "    <tr>\n",
       "      <th>2</th>\n",
       "      <td>0.23</td>\n",
       "      <td>1</td>\n",
       "      <td>1</td>\n",
       "      <td>4</td>\n",
       "      <td>56.9</td>\n",
       "      <td>65.0</td>\n",
       "      <td>327</td>\n",
       "      <td>4.05</td>\n",
       "      <td>4.07</td>\n",
       "      <td>2.31</td>\n",
       "    </tr>\n",
       "    <tr>\n",
       "      <th>3</th>\n",
       "      <td>0.29</td>\n",
       "      <td>3</td>\n",
       "      <td>5</td>\n",
       "      <td>5</td>\n",
       "      <td>62.4</td>\n",
       "      <td>58.0</td>\n",
       "      <td>334</td>\n",
       "      <td>4.20</td>\n",
       "      <td>4.23</td>\n",
       "      <td>2.63</td>\n",
       "    </tr>\n",
       "    <tr>\n",
       "      <th>4</th>\n",
       "      <td>0.31</td>\n",
       "      <td>1</td>\n",
       "      <td>6</td>\n",
       "      <td>3</td>\n",
       "      <td>63.3</td>\n",
       "      <td>58.0</td>\n",
       "      <td>335</td>\n",
       "      <td>4.34</td>\n",
       "      <td>4.35</td>\n",
       "      <td>2.75</td>\n",
       "    </tr>\n",
       "  </tbody>\n",
       "</table>\n",
       "</div>"
      ],
      "text/plain": [
       "   Carat(Weight of Daimond)  Cut(Quality)  Color  Clarity  Depth  Table  \\\n",
       "0                      0.23             2      1        3   61.5   55.0   \n",
       "1                      0.21             3      1        2   59.8   61.0   \n",
       "2                      0.23             1      1        4   56.9   65.0   \n",
       "3                      0.29             3      5        5   62.4   58.0   \n",
       "4                      0.31             1      6        3   63.3   58.0   \n",
       "\n",
       "   Price(in US dollars)  X(length)  Y(width)  Z(Depth)  \n",
       "0                   326       3.95      3.98      2.43  \n",
       "1                   326       3.89      3.84      2.31  \n",
       "2                   327       4.05      4.07      2.31  \n",
       "3                   334       4.20      4.23      2.63  \n",
       "4                   335       4.34      4.35      2.75  "
      ]
     },
     "execution_count": 6,
     "metadata": {},
     "output_type": "execute_result"
    }
   ],
   "source": [
    "from sklearn.preprocessing import LabelEncoder\n",
    "\n",
    "lb = LabelEncoder()\n",
    "\n",
    "data['Cut(Quality)'] = lb.fit_transform( data[\"Cut(Quality)\"] )\n",
    "data['Color'] = lb.fit_transform( data[\"Color\"] )\n",
    "data['Clarity'] = lb.fit_transform( data[\"Clarity\"] )\n",
    "\n",
    "data.head()"
   ]
  },
  {
   "cell_type": "code",
   "execution_count": 7,
   "id": "52381626",
   "metadata": {
    "execution": {
     "iopub.execute_input": "2022-05-23T14:23:05.749697Z",
     "iopub.status.busy": "2022-05-23T14:23:05.749321Z",
     "iopub.status.idle": "2022-05-23T14:23:05.796749Z",
     "shell.execute_reply": "2022-05-23T14:23:05.795983Z"
    },
    "papermill": {
     "duration": 0.068852,
     "end_time": "2022-05-23T14:23:05.798714",
     "exception": false,
     "start_time": "2022-05-23T14:23:05.729862",
     "status": "completed"
    },
    "tags": []
   },
   "outputs": [
    {
     "data": {
      "text/html": [
       "<div>\n",
       "<style scoped>\n",
       "    .dataframe tbody tr th:only-of-type {\n",
       "        vertical-align: middle;\n",
       "    }\n",
       "\n",
       "    .dataframe tbody tr th {\n",
       "        vertical-align: top;\n",
       "    }\n",
       "\n",
       "    .dataframe thead th {\n",
       "        text-align: right;\n",
       "    }\n",
       "</style>\n",
       "<table border=\"1\" class=\"dataframe\">\n",
       "  <thead>\n",
       "    <tr style=\"text-align: right;\">\n",
       "      <th></th>\n",
       "      <th>Carat(Weight of Daimond)</th>\n",
       "      <th>Cut(Quality)</th>\n",
       "      <th>Color</th>\n",
       "      <th>Clarity</th>\n",
       "      <th>Depth</th>\n",
       "      <th>Table</th>\n",
       "      <th>Price(in US dollars)</th>\n",
       "      <th>X(length)</th>\n",
       "      <th>Y(width)</th>\n",
       "      <th>Z(Depth)</th>\n",
       "    </tr>\n",
       "  </thead>\n",
       "  <tbody>\n",
       "    <tr>\n",
       "      <th>Carat(Weight of Daimond)</th>\n",
       "      <td>1.000000</td>\n",
       "      <td>0.017124</td>\n",
       "      <td>0.291437</td>\n",
       "      <td>-0.214290</td>\n",
       "      <td>0.028224</td>\n",
       "      <td>0.181618</td>\n",
       "      <td>0.921591</td>\n",
       "      <td>0.975094</td>\n",
       "      <td>0.951722</td>\n",
       "      <td>0.953387</td>\n",
       "    </tr>\n",
       "    <tr>\n",
       "      <th>Cut(Quality)</th>\n",
       "      <td>0.017124</td>\n",
       "      <td>1.000000</td>\n",
       "      <td>0.000304</td>\n",
       "      <td>0.028235</td>\n",
       "      <td>-0.194249</td>\n",
       "      <td>0.150327</td>\n",
       "      <td>0.039860</td>\n",
       "      <td>0.022342</td>\n",
       "      <td>0.027572</td>\n",
       "      <td>0.002037</td>\n",
       "    </tr>\n",
       "    <tr>\n",
       "      <th>Color</th>\n",
       "      <td>0.291437</td>\n",
       "      <td>0.000304</td>\n",
       "      <td>1.000000</td>\n",
       "      <td>-0.027795</td>\n",
       "      <td>0.047279</td>\n",
       "      <td>0.026465</td>\n",
       "      <td>0.172511</td>\n",
       "      <td>0.270287</td>\n",
       "      <td>0.263584</td>\n",
       "      <td>0.268227</td>\n",
       "    </tr>\n",
       "    <tr>\n",
       "      <th>Clarity</th>\n",
       "      <td>-0.214290</td>\n",
       "      <td>0.028235</td>\n",
       "      <td>-0.027795</td>\n",
       "      <td>1.000000</td>\n",
       "      <td>-0.053080</td>\n",
       "      <td>-0.088223</td>\n",
       "      <td>-0.071535</td>\n",
       "      <td>-0.225721</td>\n",
       "      <td>-0.217616</td>\n",
       "      <td>-0.224263</td>\n",
       "    </tr>\n",
       "    <tr>\n",
       "      <th>Depth</th>\n",
       "      <td>0.028224</td>\n",
       "      <td>-0.194249</td>\n",
       "      <td>0.047279</td>\n",
       "      <td>-0.053080</td>\n",
       "      <td>1.000000</td>\n",
       "      <td>-0.295779</td>\n",
       "      <td>-0.010647</td>\n",
       "      <td>-0.025289</td>\n",
       "      <td>-0.029341</td>\n",
       "      <td>0.094924</td>\n",
       "    </tr>\n",
       "    <tr>\n",
       "      <th>Table</th>\n",
       "      <td>0.181618</td>\n",
       "      <td>0.150327</td>\n",
       "      <td>0.026465</td>\n",
       "      <td>-0.088223</td>\n",
       "      <td>-0.295779</td>\n",
       "      <td>1.000000</td>\n",
       "      <td>0.127134</td>\n",
       "      <td>0.195344</td>\n",
       "      <td>0.183760</td>\n",
       "      <td>0.150929</td>\n",
       "    </tr>\n",
       "    <tr>\n",
       "      <th>Price(in US dollars)</th>\n",
       "      <td>0.921591</td>\n",
       "      <td>0.039860</td>\n",
       "      <td>0.172511</td>\n",
       "      <td>-0.071535</td>\n",
       "      <td>-0.010647</td>\n",
       "      <td>0.127134</td>\n",
       "      <td>1.000000</td>\n",
       "      <td>0.884435</td>\n",
       "      <td>0.865421</td>\n",
       "      <td>0.861249</td>\n",
       "    </tr>\n",
       "    <tr>\n",
       "      <th>X(length)</th>\n",
       "      <td>0.975094</td>\n",
       "      <td>0.022342</td>\n",
       "      <td>0.270287</td>\n",
       "      <td>-0.225721</td>\n",
       "      <td>-0.025289</td>\n",
       "      <td>0.195344</td>\n",
       "      <td>0.884435</td>\n",
       "      <td>1.000000</td>\n",
       "      <td>0.974701</td>\n",
       "      <td>0.970772</td>\n",
       "    </tr>\n",
       "    <tr>\n",
       "      <th>Y(width)</th>\n",
       "      <td>0.951722</td>\n",
       "      <td>0.027572</td>\n",
       "      <td>0.263584</td>\n",
       "      <td>-0.217616</td>\n",
       "      <td>-0.029341</td>\n",
       "      <td>0.183760</td>\n",
       "      <td>0.865421</td>\n",
       "      <td>0.974701</td>\n",
       "      <td>1.000000</td>\n",
       "      <td>0.952006</td>\n",
       "    </tr>\n",
       "    <tr>\n",
       "      <th>Z(Depth)</th>\n",
       "      <td>0.953387</td>\n",
       "      <td>0.002037</td>\n",
       "      <td>0.268227</td>\n",
       "      <td>-0.224263</td>\n",
       "      <td>0.094924</td>\n",
       "      <td>0.150929</td>\n",
       "      <td>0.861249</td>\n",
       "      <td>0.970772</td>\n",
       "      <td>0.952006</td>\n",
       "      <td>1.000000</td>\n",
       "    </tr>\n",
       "  </tbody>\n",
       "</table>\n",
       "</div>"
      ],
      "text/plain": [
       "                          Carat(Weight of Daimond)  Cut(Quality)     Color  \\\n",
       "Carat(Weight of Daimond)                  1.000000      0.017124  0.291437   \n",
       "Cut(Quality)                              0.017124      1.000000  0.000304   \n",
       "Color                                     0.291437      0.000304  1.000000   \n",
       "Clarity                                  -0.214290      0.028235 -0.027795   \n",
       "Depth                                     0.028224     -0.194249  0.047279   \n",
       "Table                                     0.181618      0.150327  0.026465   \n",
       "Price(in US dollars)                      0.921591      0.039860  0.172511   \n",
       "X(length)                                 0.975094      0.022342  0.270287   \n",
       "Y(width)                                  0.951722      0.027572  0.263584   \n",
       "Z(Depth)                                  0.953387      0.002037  0.268227   \n",
       "\n",
       "                           Clarity     Depth     Table  Price(in US dollars)  \\\n",
       "Carat(Weight of Daimond) -0.214290  0.028224  0.181618              0.921591   \n",
       "Cut(Quality)              0.028235 -0.194249  0.150327              0.039860   \n",
       "Color                    -0.027795  0.047279  0.026465              0.172511   \n",
       "Clarity                   1.000000 -0.053080 -0.088223             -0.071535   \n",
       "Depth                    -0.053080  1.000000 -0.295779             -0.010647   \n",
       "Table                    -0.088223 -0.295779  1.000000              0.127134   \n",
       "Price(in US dollars)     -0.071535 -0.010647  0.127134              1.000000   \n",
       "X(length)                -0.225721 -0.025289  0.195344              0.884435   \n",
       "Y(width)                 -0.217616 -0.029341  0.183760              0.865421   \n",
       "Z(Depth)                 -0.224263  0.094924  0.150929              0.861249   \n",
       "\n",
       "                          X(length)  Y(width)  Z(Depth)  \n",
       "Carat(Weight of Daimond)   0.975094  0.951722  0.953387  \n",
       "Cut(Quality)               0.022342  0.027572  0.002037  \n",
       "Color                      0.270287  0.263584  0.268227  \n",
       "Clarity                   -0.225721 -0.217616 -0.224263  \n",
       "Depth                     -0.025289 -0.029341  0.094924  \n",
       "Table                      0.195344  0.183760  0.150929  \n",
       "Price(in US dollars)       0.884435  0.865421  0.861249  \n",
       "X(length)                  1.000000  0.974701  0.970772  \n",
       "Y(width)                   0.974701  1.000000  0.952006  \n",
       "Z(Depth)                   0.970772  0.952006  1.000000  "
      ]
     },
     "execution_count": 7,
     "metadata": {},
     "output_type": "execute_result"
    }
   ],
   "source": [
    "data.corr()"
   ]
  },
  {
   "cell_type": "code",
   "execution_count": 8,
   "id": "41ef14d2",
   "metadata": {
    "execution": {
     "iopub.execute_input": "2022-05-23T14:23:05.838138Z",
     "iopub.status.busy": "2022-05-23T14:23:05.837457Z",
     "iopub.status.idle": "2022-05-23T14:23:06.809242Z",
     "shell.execute_reply": "2022-05-23T14:23:06.808513Z"
    },
    "papermill": {
     "duration": 0.995208,
     "end_time": "2022-05-23T14:23:06.812348",
     "exception": false,
     "start_time": "2022-05-23T14:23:05.817140",
     "status": "completed"
    },
    "tags": []
   },
   "outputs": [
    {
     "data": {
      "text/plain": [
       "<AxesSubplot:>"
      ]
     },
     "execution_count": 8,
     "metadata": {},
     "output_type": "execute_result"
    },
    {
     "data": {
      "image/png": "[encoded data removed]",
      "text/plain": [
       "<Figure size 432x288 with 2 Axes>"
      ]
     },
     "metadata": {
      "needs_background": "light"
     },
     "output_type": "display_data"
    }
   ],
   "source": [
    "import seaborn as sns\n",
    "\n",
    "sns.heatmap( data = data.corr() , annot = True )"
   ]
  },
  {
   "cell_type": "code",
   "execution_count": 9,
   "id": "71124061",
   "metadata": {
    "execution": {
     "iopub.execute_input": "2022-05-23T14:23:06.858934Z",
     "iopub.status.busy": "2022-05-23T14:23:06.858278Z",
     "iopub.status.idle": "2022-05-23T14:23:06.966701Z",
     "shell.execute_reply": "2022-05-23T14:23:06.965629Z"
    },
    "papermill": {
     "duration": 0.135471,
     "end_time": "2022-05-23T14:23:06.969484",
     "exception": false,
     "start_time": "2022-05-23T14:23:06.834013",
     "status": "completed"
    },
    "tags": []
   },
   "outputs": [],
   "source": [
    "from sklearn.model_selection import train_test_split\n",
    "\n",
    "y = data[\"Price(in US dollars)\"]\n",
    "x = data.drop ( columns = [\"Price(in US dollars)\"] )\n",
    "\n",
    "x_train , x_test , y_train , y_test = train_test_split( x , y , test_size = 0.3)"
   ]
  },
  {
   "cell_type": "markdown",
   "id": "0c3b82b6",
   "metadata": {
    "papermill": {
     "duration": 0.020774,
     "end_time": "2022-05-23T14:23:07.011616",
     "exception": false,
     "start_time": "2022-05-23T14:23:06.990842",
     "status": "completed"
    },
    "tags": []
   },
   "source": [
    "fit_intercept : [boolean, Default is True] Whether to calculate intercept for the model.   \n",
    "normalize : [boolean, Default is False] Normalisation before regression.   \n",
    "copy_X : [boolean, Default is True] If true, make a copy of X else overwritten.   \n",
    "n_jobs : [int, Default is 1] If -1 all CPU’s are used. This will speedup the working for large datasets to process.   "
   ]
  },
  {
   "cell_type": "code",
   "execution_count": 10,
   "id": "02b043e1",
   "metadata": {
    "execution": {
     "iopub.execute_input": "2022-05-23T14:23:07.057559Z",
     "iopub.status.busy": "2022-05-23T14:23:07.056850Z",
     "iopub.status.idle": "2022-05-23T14:23:07.187837Z",
     "shell.execute_reply": "2022-05-23T14:23:07.186030Z"
    },
    "papermill": {
     "duration": 0.158167,
     "end_time": "2022-05-23T14:23:07.191180",
     "exception": false,
     "start_time": "2022-05-23T14:23:07.033013",
     "status": "completed"
    },
    "tags": []
   },
   "outputs": [
    {
     "name": "stdout",
     "output_type": "stream",
     "text": [
      "88.0635145718331\n"
     ]
    }
   ],
   "source": [
    "from sklearn.linear_model import LinearRegression\n",
    "\n",
    "lr = LinearRegression(  )\n",
    "\n",
    "lr.fit(x_train,y_train)\n",
    "\n",
    "y_pred = lr.predict(x_test)\n",
    "\n",
    "from sklearn.metrics import r2_score\n",
    "\n",
    "acc = r2_score(y_test, y_pred) * 100\n",
    "\n",
    "print(acc)\n"
   ]
  },
  {
   "cell_type": "markdown",
   "id": "d86f79ce",
   "metadata": {
    "papermill": {
     "duration": 0.039408,
     "end_time": "2022-05-23T14:23:07.270468",
     "exception": false,
     "start_time": "2022-05-23T14:23:07.231060",
     "status": "completed"
    },
    "tags": []
   },
   "source": [
    "# Metrics"
   ]
  },
  {
   "cell_type": "code",
   "execution_count": 11,
   "id": "1ca4e292",
   "metadata": {
    "execution": {
     "iopub.execute_input": "2022-05-23T14:23:07.329864Z",
     "iopub.status.busy": "2022-05-23T14:23:07.329540Z",
     "iopub.status.idle": "2022-05-23T14:23:07.340992Z",
     "shell.execute_reply": "2022-05-23T14:23:07.340364Z"
    },
    "papermill": {
     "duration": 0.036715,
     "end_time": "2022-05-23T14:23:07.343184",
     "exception": false,
     "start_time": "2022-05-23T14:23:07.306469",
     "status": "completed"
    },
    "tags": []
   },
   "outputs": [
    {
     "name": "stdout",
     "output_type": "stream",
     "text": [
      "MAE 864.0084830698405\n",
      "MSE 1914330.449127093\n",
      "RMSE 1383.5933105963952\n",
      "RMSE 7.232439242269883\n",
      "R2 88.0635145718331\n"
     ]
    }
   ],
   "source": [
    "# MAE\n",
    "from sklearn.metrics import mean_absolute_error\n",
    "\n",
    "err = mean_absolute_error( y_test, y_pred)\n",
    "\n",
    "print(\"MAE\",err)\n",
    "\n",
    "# MSE\n",
    "\n",
    "from sklearn.metrics import mean_squared_error\n",
    "print(\"MSE\",mean_squared_error(y_test,y_pred))\n",
    "\n",
    "\n",
    "# RMSE \n",
    "\n",
    "print(\"RMSE\",np.sqrt(mean_squared_error(y_test,y_pred)))\n",
    "\n",
    "\n",
    "# RMSLE\n",
    "\n",
    "print(\"RMSE\",np.log(np.sqrt(mean_squared_error(y_test,y_pred))))\n",
    "\n",
    "\n",
    "# R2\n",
    "print(\"R2\",acc)"
   ]
  },
  {
   "cell_type": "markdown",
   "id": "fe0cf685",
   "metadata": {
    "papermill": {
     "duration": 0.021461,
     "end_time": "2022-05-23T14:23:07.387376",
     "exception": false,
     "start_time": "2022-05-23T14:23:07.365915",
     "status": "completed"
    },
    "tags": []
   },
   "source": [
    "# Residuals"
   ]
  },
  {
   "cell_type": "code",
   "execution_count": 12,
   "id": "c9a2a30e",
   "metadata": {
    "execution": {
     "iopub.execute_input": "2022-05-23T14:23:07.436283Z",
     "iopub.status.busy": "2022-05-23T14:23:07.435621Z",
     "iopub.status.idle": "2022-05-23T14:23:07.669634Z",
     "shell.execute_reply": "2022-05-23T14:23:07.667420Z"
    },
    "papermill": {
     "duration": 0.262436,
     "end_time": "2022-05-23T14:23:07.672466",
     "exception": false,
     "start_time": "2022-05-23T14:23:07.410030",
     "status": "completed"
    },
    "tags": []
   },
   "outputs": [
    {
     "data": {
      "image/png": "[encoded data removed]",
      "text/plain": [
       "<Figure size 432x288 with 1 Axes>"
      ]
     },
     "metadata": {
      "needs_background": "light"
     },
     "output_type": "display_data"
    }
   ],
   "source": [
    "import matplotlib.pyplot as plt\n",
    "\n",
    "residuals = y_test - y_pred\n",
    "\n",
    "plt.scatter(y_pred,residuals)\n",
    "plt.axhline(y=0)\n",
    "plt.show()\n",
    "\n"
   ]
  }
 ],
 "metadata": {
  "kernelspec": {
   "display_name": "Python 3",
   "language": "python",
   "name": "python3"
  },
  "language_info": {
   "codemirror_mode": {
    "name": "ipython",
    "version": 3
   },
   "file_extension": ".py",
   "mimetype": "text/x-python",
   "name": "python",
   "nbconvert_exporter": "python",
   "pygments_lexer": "ipython3",
   "version": "3.7.12"
  },
  "papermill": {
   "default_parameters": {},
   "duration": 15.414087,
   "end_time": "2022-05-23T14:23:08.518585",
   "environment_variables": {},
   "exception": null,
   "input_path": "__notebook__.ipynb",
   "output_path": "__notebook__.ipynb",
   "parameters": {},
   "start_time": "2022-05-23T14:22:53.104498",
   "version": "2.3.4"
  }
 },
 "nbformat": 4,
 "nbformat_minor": 5
}
